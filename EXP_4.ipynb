{
  "nbformat": 4,
  "nbformat_minor": 0,
  "metadata": {
    "colab": {
      "provenance": [],
      "collapsed_sections": []
    },
    "kernelspec": {
      "name": "python3",
      "display_name": "Python 3"
    },
    "language_info": {
      "name": "python"
    },
    "accelerator": "GPU"
  },
  "cells": [
    {
      "cell_type": "code",
      "execution_count": 1,
      "metadata": {
        "colab": {
          "base_uri": "https://localhost:8080/"
        },
        "id": "NOILE6LajFb0",
        "outputId": "59df289b-b3c2-450c-cf56-16c10af99246"
      },
      "outputs": [
        {
          "output_type": "stream",
          "name": "stdout",
          "text": [
            "Cloning into 'cellimage'...\n",
            "remote: Enumerating objects: 27568, done.\u001b[K\n",
            "remote: Total 27568 (delta 0), reused 0 (delta 0), pack-reused 27568\u001b[K\n",
            "Receiving objects: 100% (27568/27568), 317.67 MiB | 16.98 MiB/s, done.\n",
            "Checking out files: 100% (27559/27559), done.\n"
          ]
        }
      ],
      "source": [
        "!git clone https://github.com/sherwin-roger/cellimage.git\n",
        "\n",
        "\n",
        "import tensorflow as tf\n",
        "import pandas as pd\n",
        "from sklearn.metrics import classification_report,confusion_matrix\n"
      ]
    },
    {
      "cell_type": "code",
      "source": [
        "trainDatagen=tf.keras.preprocessing.image.ImageDataGenerator(rescale = 1./255)\n",
        "testDatagen=tf.keras.preprocessing.image.ImageDataGenerator(rescale = 1./255)"
      ],
      "metadata": {
        "id": "zZ_iaAc7jd84"
      },
      "execution_count": 2,
      "outputs": []
    },
    {
      "cell_type": "code",
      "source": [
        "train=trainDatagen.flow_from_directory(\"cellimage/cell_images/train\",class_mode = 'binary',target_size=(150,150))\n",
        "test=trainDatagen.flow_from_directory(\"cellimage/cell_images/test\",class_mode = 'binary',target_size=(150,150))"
      ],
      "metadata": {
        "colab": {
          "base_uri": "https://localhost:8080/"
        },
        "id": "KrEkM2qqkhzf",
        "outputId": "fe96d78b-602f-44d7-eaaf-7348b861d75b"
      },
      "execution_count": 3,
      "outputs": [
        {
          "output_type": "stream",
          "name": "stdout",
          "text": [
            "Found 24958 images belonging to 2 classes.\n",
            "Found 2600 images belonging to 2 classes.\n"
          ]
        }
      ]
    },
    {
      "cell_type": "code",
      "source": [
        "\n",
        "model=tf.keras.Sequential([\n",
        "    tf.keras.layers.Conv2D(32,3,activation=\"relu\",padding=\"same\"),\n",
        "    tf.keras.layers.Conv2D(32,3,activation=\"relu\"),\n",
        "    tf.keras.layers.MaxPool2D((2,2)),\n",
        "    tf.keras.layers.Conv2D(64,3,activation=\"relu\"),\n",
        "    tf.keras.layers.Conv2D(64,3,activation=\"relu\"),\n",
        "    tf.keras.layers.MaxPool2D((2,2)),\n",
        "    tf.keras.layers.Conv2D(128,3,activation=\"relu\"),\n",
        "    tf.keras.layers.Conv2D(128,3,activation=\"relu\"),\n",
        "    tf.keras.layers.MaxPool2D((2,2)),\n",
        "    tf.keras.layers.Flatten(),\n",
        "    tf.keras.layers.Dense(1,activation=\"sigmoid\")\n",
        "])"
      ],
      "metadata": {
        "id": "iMz31G4QkpVd"
      },
      "execution_count": 4,
      "outputs": []
    },
    {
      "cell_type": "code",
      "source": [
        "model.compile(loss=\"binary_crossentropy\",optimizer=\"adam\",metrics=\"accuracy\")"
      ],
      "metadata": {
        "id": "iaX500RWlRuH"
      },
      "execution_count": 5,
      "outputs": []
    },
    {
      "cell_type": "code",
      "source": [
        "model.fit(train,epochs=5,validation_data=test)"
      ],
      "metadata": {
        "colab": {
          "base_uri": "https://localhost:8080/"
        },
        "id": "4d31860RlTqr",
        "outputId": "5260d3ad-62a3-4a11-9200-fddcb9abf36f"
      },
      "execution_count": 6,
      "outputs": [
        {
          "output_type": "stream",
          "name": "stdout",
          "text": [
            "Epoch 1/5\n",
            "780/780 [==============================] - 52s 63ms/step - loss: 0.6463 - accuracy: 0.6020 - val_loss: 0.3907 - val_accuracy: 0.8415\n",
            "Epoch 2/5\n",
            "780/780 [==============================] - 47s 61ms/step - loss: 0.1895 - accuracy: 0.9410 - val_loss: 0.1911 - val_accuracy: 0.9273\n",
            "Epoch 3/5\n",
            "780/780 [==============================] - 47s 60ms/step - loss: 0.1493 - accuracy: 0.9518 - val_loss: 0.1748 - val_accuracy: 0.9496\n",
            "Epoch 4/5\n",
            "780/780 [==============================] - 47s 61ms/step - loss: 0.1318 - accuracy: 0.9560 - val_loss: 0.1616 - val_accuracy: 0.9431\n",
            "Epoch 5/5\n",
            "780/780 [==============================] - 48s 61ms/step - loss: 0.1306 - accuracy: 0.9566 - val_loss: 0.1486 - val_accuracy: 0.9508\n"
          ]
        },
        {
          "output_type": "execute_result",
          "data": {
            "text/plain": [
              "<keras.callbacks.History at 0x7f1a400cc3d0>"
            ]
          },
          "metadata": {},
          "execution_count": 6
        }
      ]
    },
    {
      "cell_type": "code",
      "source": [
        "pd.DataFrame(model.history.history).plot()"
      ],
      "metadata": {
        "colab": {
          "base_uri": "https://localhost:8080/",
          "height": 282
        },
        "id": "eVzzOGpHlVSh",
        "outputId": "29b70a6f-c6f4-4fbc-a09d-98c8da72361d"
      },
      "execution_count": 7,
      "outputs": [
        {
          "output_type": "execute_result",
          "data": {
            "text/plain": [
              "<matplotlib.axes._subplots.AxesSubplot at 0x7f19f22cad50>"
            ]
          },
          "metadata": {},
          "execution_count": 7
        },
        {
          "output_type": "display_data",
          "data": {
            "text/plain": [
              "<Figure size 432x288 with 1 Axes>"
            ],
            "image/png": "[encoded data removed]"
          },
          "metadata": {
            "needs_background": "light"
          }
        }
      ]
    },
    {
      "cell_type": "code",
      "source": [
        "import numpy as np\n"
      ],
      "metadata": {
        "id": "Hy6ahZ7flYkQ"
      },
      "execution_count": 8,
      "outputs": []
    },
    {
      "cell_type": "code",
      "source": [
        "test_predictions = np.argmax(model.predict(test), axis=1)\n",
        "\n",
        "confusion_matrix(test.classes,test_predictions)"
      ],
      "metadata": {
        "colab": {
          "base_uri": "https://localhost:8080/"
        },
        "id": "q_oV8ul2llx0",
        "outputId": "25108168-8ec4-45b7-d297-c164eb98dacb"
      },
      "execution_count": 9,
      "outputs": [
        {
          "output_type": "execute_result",
          "data": {
            "text/plain": [
              "array([[1300,    0],\n",
              "       [1300,    0]])"
            ]
          },
          "metadata": {},
          "execution_count": 9
        }
      ]
    },
    {
      "cell_type": "code",
      "source": [
        "print(classification_report(test.classes,test_predictions))\n"
      ],
      "metadata": {
        "colab": {
          "base_uri": "https://localhost:8080/"
        },
        "id": "Gigd0NSdoPor",
        "outputId": "522eaccc-95c7-4fbb-9a5a-616b4ce57836"
      },
      "execution_count": 10,
      "outputs": [
        {
          "output_type": "stream",
          "name": "stdout",
          "text": [
            "              precision    recall  f1-score   support\n",
            "\n",
            "           0       0.50      1.00      0.67      1300\n",
            "           1       0.00      0.00      0.00      1300\n",
            "\n",
            "    accuracy                           0.50      2600\n",
            "   macro avg       0.25      0.50      0.33      2600\n",
            "weighted avg       0.25      0.50      0.33      2600\n",
            "\n"
          ]
        },
        {
          "output_type": "stream",
          "name": "stderr",
          "text": [
            "/usr/local/lib/python3.7/dist-packages/sklearn/metrics/_classification.py:1318: UndefinedMetricWarning: Precision and F-score are ill-defined and being set to 0.0 in labels with no predicted samples. Use `zero_division` parameter to control this behavior.\n",
            "  _warn_prf(average, modifier, msg_start, len(result))\n",
            "/usr/local/lib/python3.7/dist-packages/sklearn/metrics/_classification.py:1318: UndefinedMetricWarning: Precision and F-score are ill-defined and being set to 0.0 in labels with no predicted samples. Use `zero_division` parameter to control this behavior.\n",
            "  _warn_prf(average, modifier, msg_start, len(result))\n",
            "/usr/local/lib/python3.7/dist-packages/sklearn/metrics/_classification.py:1318: UndefinedMetricWarning: Precision and F-score are ill-defined and being set to 0.0 in labels with no predicted samples. Use `zero_division` parameter to control this behavior.\n",
            "  _warn_prf(average, modifier, msg_start, len(result))\n"
          ]
        }
      ]
    },
    {
      "cell_type": "code",
      "source": [
        "import numpy as np\n",
        "\n",
        "img = tf.keras.preprocessing.image.load_img(\"cellimage/cell_images/test/uninfected/C100P61ThinF_IMG_20150918_144104_cell_34.png\")\n",
        "img_tensor = tf.convert_to_tensor(np.asarray(img))\n",
        "img_28 = tf.image.resize(img_tensor,(150,150))\n",
        "img_28 = img_28/255.0\n",
        "img_28=tf.expand_dims(img_28, axis=0)\n"
      ],
      "metadata": {
        "id": "1urGn9LhoYEx"
      },
      "execution_count": 11,
      "outputs": []
    },
    {
      "cell_type": "code",
      "source": [
        "if tf.cast(tf.round(model.predict(img_28))[0][0],tf.int32).numpy()==1:\n",
        "  print(\"Disinfected\")\n",
        "else:\n",
        "  print(\"Infected\")"
      ],
      "metadata": {
        "colab": {
          "base_uri": "https://localhost:8080/"
        },
        "id": "9SFuk3K6oaN4",
        "outputId": "268419db-9455-4899-e1a3-276d45865577"
      },
      "execution_count": 13,
      "outputs": [
        {
          "output_type": "stream",
          "name": "stdout",
          "text": [
            "Disinfected\n"
          ]
        }
      ]
    },
    {
      "cell_type": "code",
      "source": [],
      "metadata": {
        "id": "SEbrAIRtobmU"
      },
      "execution_count": null,
      "outputs": []
    }
  ]
}